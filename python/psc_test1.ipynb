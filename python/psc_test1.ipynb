{
 "cells": [
  {
   "cell_type": "code",
   "execution_count": null,
   "metadata": {},
   "outputs": [],
   "source": [
    "import sys\n",
    "sys.path.append('/Users/kai/src/psc/python')\n",
    "import psc\n",
    "import importlib\n",
    "importlib.reload(psc)\n",
    "\n",
    "import matplotlib.pyplot as plt\n",
    "import matplotlib.colors as colors\n",
    "\n",
    "%matplotlib inline \n",
    "plt.rcParams['figure.figsize'] = [16, 3]"
   ]
  },
  {
   "cell_type": "code",
   "execution_count": null,
   "metadata": {},
   "outputs": [],
   "source": [
    "root = '/Users/kai/src/psc/build-mac'\n",
    "run = psc.run(root, [1., 80., 240.])\n",
    "\n",
    "def plot(time):\n",
    "    ds = psc.read(run, time)\n",
    "    n_e, py_e = ds[\"n_e\"], ds[\"py_e\"]\n",
    "    uy = py_e/n_e\n",
    "    fig, axes = plt.subplots(1, 2)\n",
    "    uy.plot(x='y',y='z', robust=True, ax=axes[0])\n",
    "    n_e.plot(x='y', y='z', robust=True, ax=axes[1])\n",
    "    \n",
    "plot(0)"
   ]
  },
  {
   "cell_type": "code",
   "execution_count": null,
   "metadata": {},
   "outputs": [],
   "source": [
    "plot(0)"
   ]
  },
  {
   "cell_type": "code",
   "execution_count": null,
   "metadata": {},
   "outputs": [],
   "source": []
  }
 ],
 "metadata": {
  "kernelspec": {
   "display_name": "Python 3",
   "language": "python",
   "name": "python3"
  },
  "language_info": {
   "codemirror_mode": {
    "name": "ipython",
    "version": 3
   },
   "file_extension": ".py",
   "mimetype": "text/x-python",
   "name": "python",
   "nbconvert_exporter": "python",
   "pygments_lexer": "ipython3",
   "version": "3.7.10"
  }
 },
 "nbformat": 4,
 "nbformat_minor": 4
}
